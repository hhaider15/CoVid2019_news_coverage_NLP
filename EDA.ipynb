{
 "cells": [
  {
   "cell_type": "code",
   "execution_count": 81,
   "metadata": {},
   "outputs": [
    {
     "data": {
      "text/html": [
       "<div>\n",
       "<style scoped>\n",
       "    .dataframe tbody tr th:only-of-type {\n",
       "        vertical-align: middle;\n",
       "    }\n",
       "\n",
       "    .dataframe tbody tr th {\n",
       "        vertical-align: top;\n",
       "    }\n",
       "\n",
       "    .dataframe thead th {\n",
       "        text-align: right;\n",
       "    }\n",
       "</style>\n",
       "<table border=\"1\" class=\"dataframe\">\n",
       "  <thead>\n",
       "    <tr style=\"text-align: right;\">\n",
       "      <th></th>\n",
       "      <th>description</th>\n",
       "      <th>text</th>\n",
       "    </tr>\n",
       "  </thead>\n",
       "  <tbody>\n",
       "    <tr>\n",
       "      <th>0</th>\n",
       "      <td>Canadian pharmacies are limiting how much medi...</td>\n",
       "      <td>Canadian pharmacies are limiting how much medi...</td>\n",
       "    </tr>\n",
       "    <tr>\n",
       "      <th>1</th>\n",
       "      <td>The Yukon government has identified two places...</td>\n",
       "      <td>The Yukon government has identified two places...</td>\n",
       "    </tr>\n",
       "    <tr>\n",
       "      <th>2</th>\n",
       "      <td>The Senate has passed an unparalleled $2.2 tri...</td>\n",
       "      <td>The Senate late Wednesday passed an unparallel...</td>\n",
       "    </tr>\n",
       "    <tr>\n",
       "      <th>3</th>\n",
       "      <td>Scientists around the world are racing to find...</td>\n",
       "      <td>Scientists around the world are racing to find...</td>\n",
       "    </tr>\n",
       "    <tr>\n",
       "      <th>4</th>\n",
       "      <td>The latest on the coronavirus outbreak from CB...</td>\n",
       "      <td>Trudeau says rules of Quarantine Act will ...</td>\n",
       "    </tr>\n",
       "  </tbody>\n",
       "</table>\n",
       "</div>"
      ],
      "text/plain": [
       "                                         description  \\\n",
       "0  Canadian pharmacies are limiting how much medi...   \n",
       "1  The Yukon government has identified two places...   \n",
       "2  The Senate has passed an unparalleled $2.2 tri...   \n",
       "3  Scientists around the world are racing to find...   \n",
       "4  The latest on the coronavirus outbreak from CB...   \n",
       "\n",
       "                                                text  \n",
       "0  Canadian pharmacies are limiting how much medi...  \n",
       "1  The Yukon government has identified two places...  \n",
       "2  The Senate late Wednesday passed an unparallel...  \n",
       "3  Scientists around the world are racing to find...  \n",
       "4      Trudeau says rules of Quarantine Act will ...  "
      ]
     },
     "execution_count": 81,
     "metadata": {},
     "output_type": "execute_result"
    }
   ],
   "source": [
    "import pandas as pd\n",
    "df = pd.read_csv('News.csv')\n",
    "df.drop(['authors','Unnamed: 0','title','publish_date','url'], axis=1, inplace=True)\n",
    "df.head()"
   ]
  },
  {
   "cell_type": "code",
   "execution_count": 82,
   "metadata": {
    "collapsed": true
   },
   "outputs": [
    {
     "name": "stdout",
     "output_type": "stream",
     "text": [
      "Canadian pharmacies are limiting how much medication can be dispensed to try to prevent shortages, recognizing that most active ingredients for drugs come from India and China and medical supply chains have been disrupted by the spread of COVID-19. Provincial regulatory colleges are complying with the Canadian Pharmacists Association call to limit the amount of medications given to patients to 30-day supplies. The goal is to stop people from refilling prescriptions early and to ensure life-saving drugs don't run short when supply chains are vulnerable. Mina Tadrous is a pharmacist and researcher in Toronto who monitors pharmaceutical supplies. He is worried Canadians will start stockpiling drugs after watching what has been unfolding in the U.S. and other regions as the virus spreads.  He said pharmacists are concerned about drugs such as life-saving inhalers that people might stockpile based on misinformation circulating about potential treatments for COVID-19. \"It's that relationship of how people are reacting rather than the actual supply of medications,\" he said.  Tadrous said pharmacies get their medications and supplies from wholesalers, who get theirs from distributors who source them from manufacturers. Outside of wholesalers, most of that supply chain is outside of Canada.  Ongoing shortages Dr. Jacalyn Duffin of Queen's University in Kingston, Ont., has long warned about the increasing frequency of drug shortages, including nearly 2,000 ongoing shortages, none of which she attributes to coronavirus. China and India produce 80 per cent of the active ingredients of prescription drugs sold in North America, said Dr. Jacalyn Duffin. (Kas Roussy/CBC) Given that China and India produce 80 per cent of the active ingredients of prescription drugs sold in North America, supply disruptions are expected eventually, Duffin said. \"I think that the coronavirus outbreak is a big wake-up call for us to pay attention to our drug shortages that exist already and to pay attention to where our drugs come from,\" she said. What you need to know about getting new prescriptions, refillsNew Brunswick offers relief on prescription co-pays during outbreak India, a major supplier of generic drugs to Europe, has already shut down the export of some antibiotics and drugs for hypertension, blood pressure and acetaminophen, Duffin said. As a precaution, the federal government has enacted sweeping legislation that gives it the right to force patented drugmakers to make more medicine if necessary and remove patents as part of the response to the public health emergency. \n",
      "\n",
      "The Yukon government has identified two places in Whitehorse — a church and a dental clinic — where people may have been exposed to the coronavirus in recent weeks. In a news release Thursday evening, the government said anybody who went to either place on certain days should monitor themselves for symptoms that may indicate COVID-19 — fever, cough or difficulty breathing — for up to 14 days, and call 811 if those symptoms develop. The possible sources of exposure are:  Sunday morning services at Bethany Church on the Alaska Highway, on March 8 and March 15, or the church's \"Kids Zone\" on March 8. Elias Dental clinic, from March 9 to 13, or March 16.  According to the news release, those places were visited on those dates by a person or persons who tested positive for COVID-19. It also says that people who attended those places at the identified times do not need to self-isolate, so long as they remain healthy and do not develop symptoms.  \"The risk to individuals from both of these possible exposures is low,\" the release says. Bethany Church in Whitehorse. According to the Yukon government, someone who later tested positive for COVID-19 attended Sunday morning services at the church on Mar. 8 and 15. (Paul Tukker/CBC) As of Wednesday, Yukon had three confirmed cases of COVID-19. Health officials announced the first two cases on Sunday, saying it was a couple from Whitehorse. The third person's community has not been disclosed. Yukon bans residential evictions, offers paid sick leave during COVID-19 pandemicCOVID-19 testing centre up and running in Whitehorse The person or people who attended Bethany Church and Elias Dental are recovering at home, according to the government's news release. It also says there is no ongoing risk to the community associated with either the church or the dental clinic.\n",
      "\n",
      "The Senate late Wednesday passed an unparalleled $2.2 trillion US economic rescue package steering aid to businesses, workers and health care systems engulfed by the coronavirus pandemic. The unanimous vote came despite misgivings on both sides about whether it goes too far or not far enough and capped days of difficult negotiations as Washington confronted a national challenge unlike it has ever faced. The 880-page measure is the largest economic relief bill in U.S. history. Republican Senate Majority Leader Mitch McConnell appeared sombre and exhausted as he announced the vote — and he released senators from Washington until April 20, though he promised to recall them if needed. \"The legislation now before us now is historic because it is meant to match a historic crisis,\" said Democratic Senate Minority Leader Chuck Schumer. \"Our health care system is not prepared to care for the sick. Our workers are without work. Our businesses cannot do business. Our factories lie idle. The gears of the American economy have ground to a halt.\" WATCH | U.S. closer to passing aid package as Louisiana becomes potential hotspot: American lawmakers are confident an aid package will be approved this week as officials identify Louisiana as a possible hotspot for COVID-19 cases. 1:59 The package is intended as relief for an economy spiralling into recession or worse and a nation facing a grim toll from an infection that's killed nearly 20,000 people worldwide. Treasury Secretary Steven Mnuchin, asked how long the aid would keep the economy afloat, said: \"We've anticipated three months. Hopefully, we won't need this for three months.\" Underscoring the effort's sheer magnitude, the bill finances a response with a price tag that equals half the size of the entire $4 trillion annual federal budget. Insistently optimistic, President Donald Trump said of the greatest public-health emergency in anyone's lifetime, \"I don't think its going to end up being such a rough patch\" and anticipated the economy soaring \"like a rocket ship\" when it's over. Coronavirus impact spreads across U.S., with much of the population under stay-at-home ordersAnyone leaving New York must self-isolate or risk spreading COVID-19, health officials say The drive by leaders to speed the bill through the Senate was slowed as four conservative Republican senators from states who economies are dominated by low-wage jobs demanded changes, saying the legislation as written might give workers like store clerks incentives to stay on unemployment instead of returning return to their jobs since they may earn more money if they're laid off than if they're working. They settled for a failed vote to modify the provision. Other objections floated in from New York Gov. Andrew Cuomo, who has become a prominent Democrat on the national scene as the country battles the pandemic. Cuomo, whose state has seen more deaths from the pandemic than any other, said, \"I'm telling you, these numbers don't work.\" Ardent liberals like Rep. Alexandria Ocasio-Cortez were restless as well, but top Washington Democrats assured them that a additional coronavirus legislation will follow this spring and signalled that delaying the pending measure would be foolish. The sprawling measure is the third coronavirus response bill produced by Congress and by far the largest. It builds on efforts focused on vaccines and emergency response, sick and family medical leave for workers, and food aid. Provides direct payments Democratic House Speaker Nancy Pelosi swung behind the bipartisan agreement, saying it \"takes us a long way down the road in meeting the needs of the American people.\" Senate passage delivered the legislation to the Democratic-controlled House, which will most likely pass it Friday. House members are scattered around the country and the timetable for votes in that chamber was unclear. House Democratic and Republican leaders have hoped to clear the measure for Trump's signature by a voice vote without having to call lawmakers back to Washington. The package would give direct payments to most Americans, expand unemployment benefits and provide a $367 billion program for small businesses to keep making payroll while workers are forced to stay home. It includes a controversial, heavily negotiated $500 billion program for guaranteed, subsidized loans to larger industries, including airlines. Hospitals would get significant help as well. Six days of arduous talks produced the bill, creating tensions among Congress' top leaders, who each took care to tend to party politics as they maneuvered and battled over crafting the legislation. But failure is not an option, nor is starting over, which permitted both sides to include their priorities. \"That Washington drama does not matter any more,\" McConnell said. \"The Senate is going to stand together, act together, and pass this historic relief package today.\" U.S. Capitol Police officers stand atop of the U.S. Senate stairway, ahead of a vote on the coronavirus relief bill, on Capitol Hill in Washington Wednesday.  (Tom Brenner/Reuters) The bill would provide one-time direct payments to Americans of $1,200 per adult making up to $75,000 a year, and $2,400 to a married couple making up to $150,000, with $500 payments per child. A huge cash infusion for hospitals expecting a flood of COVID-19 patients grew during the talks to an estimated $130 billion. Another $45 billion would fund additional relief through the Federal Emergency Management Agency for local response efforts and community services. Democrats said the package would help replace the salaries of furloughed workers for four months, rather than the three months first proposed. Furloughed workers would get whatever amount a state usually provides for unemployment, plus a $600 per week add-on, with gig workers like Uber drivers covered for the first time. Republicans won inclusion of an \"employee retention\" tax credit that's estimated to provide $50 billion to companies that retain employees on payroll and cover 50 per cent of workers' paycheque up to $10,000. Companies would also be able to defer payment of the 6.2 per cent Social Security payroll tax.\n",
      "\n",
      "Scientists around the world are racing to find novel ways to treat, mitigate or prevent infection from the novel coronavirus. The response has been especially rapid as the virus has spread unchecked across the globe. Still, any treatments are a long way from being proven both effective and safe, and most certainly won't come in time to address the current pandemic. According to some of the top infectious disease experts in the world, even on an accelerated timeline, a vaccine is still likely 12-18 months away — and then the challenge will be producing enough to make it readily available. There is currently no drug therapy or vaccine approved anywhere in the world for COVID-19. Here are the latest developments in the research. Old drugs, new tricks March 26: University of Manitoba researchers begin recruiting participants for a series of trials to test whether the malaria drug hydroxychloroquine can reduce the symptoms and severity of COVID-19 and slow its spread. The trial, in conjunction with researchers at the University of Minnesota, University of Alberta and McGill University Health Centre, will include participants who have tested positive for COVID-19, or who live with someone who has. Long-term use of hydroxychloroquine is known to cause cardiac and eye toxicity, but Dr. Ryan Zarychanski, an associate professor of internal medicine, said the short five-day trial should be \"very safe.\"  Manitoba researchers begin clinical trial with drug they hope can help in COVID-19 fight  \"The idea is to reduce the severity of symptoms,\" said Zarychanski, a critical care doctor, \"and also reduce the transmissibility of the virus and reduce community spread, which can help keep our population more healthy and reduce the burden that we're expecting on the health care system.\" But experts, including Canada's chief public health officer, warn that hydroxychloroquine can have serious side-effects. They also say there is a danger that hoarding the medication could hurt the many patients who take it for chronic inflammatory diseases like lupus and rheumatoid arthritis.  Canadian doctors urge caution on repurposing malaria medication to fight COVID-19  March 25: New York's Mount Sinai hospital begins treating critically ill COVID-19 patients via plasmapheresis, a century-old therapy that involves removing antibody-rich plasma from blood and returning it to a patient (the same or another) after either treating it or replacing it. In this case, doctors will transfer antibodies from recovered COVID-19 patients into sick ones in the hopes the antibodies will neutralize the disease. .<a href=\"https://twitter.com/MountSinaiNYC?ref_src=twsrc%5Etfw\">@MountSinaiNYC</a> to begin the transfer of <a href=\"https://twitter.com/hashtag/COVID19?src=hash&amp;ref_src=twsrc%5Etfw\">#COVID19</a> antibodies into critically ill patients: <a href=\"https://t.co/bpSB2HuSqR\">https://t.co/bpSB2HuSqR</a> <a href=\"https://t.co/GpEHoHEEM6\">pic.twitter.com/GpEHoHEEM6</a>&mdash;@IcahnMountSinai March 23: Researchers at the Montreal Heart Institute say they are recruiting up to 6,000 Quebecers over the age of 40 who test positive for the novel coronavirus to study whether colchicine, an anti-inflammatory drug used to treat gout, Behçet's disease and familial Mediterranean fever, is effective in treating respiratory complications of COVID-19, like lung inflammation, before patients need ventilators or die. Quebecers who meet the criteria and wish to take part in the study at the Montreal Heart Institute can find out more from their doctor or by calling 1-877-536-6837. (Montreal Heart Institute) \"It's inexpensive, it's widely available and the reason why we think it might very well work is that it's a powerful anti-inflammatory agent,\" Dr. Jean-Claude Tardif, the institute's research director, said in an interview with CBC Montreal's Daybreak.   Montreal Heart Institute launches clinical study into colchicine as potential COVID-19 treatment  Immunizing the herd March 23: The Canadian government announces $275 million in funding for a number of Canadian research initiatives into vaccine development and testing. One of them is a Saskatoon lab that for four decades has been working on coronavirus vaccines primarily for animals, including successful vaccines for cattle and pigs.  March 17: China gives the go-ahead for researchers at the country's Academy of Military Medical Sciences to begin human safety tests of an experimental coronavirus vaccine. March 16: Scientists at the Kaiser Permanente Washington Research Institute in Seattle begin a first-stage study of a potential COVID-19 vaccine when they administer the first shot to a volunteer patient. With no clear end in sight, the urgent race for a vaccine is on across the world. This week, hopes for a vaccine grew as some biotech players are seemingly making progress. But, some experts caution that this process cannot be rushed - and that we are still far from seeing a vaccine on the market. 13:25\n",
      "\n"
     ]
    }
   ],
   "source": [
    "a = 0 \n",
    "for i in range(a,a+4):\n",
    "    print(df['text'][i])\n",
    "    print()"
   ]
  },
  {
   "cell_type": "code",
   "execution_count": 77,
   "metadata": {},
   "outputs": [
    {
     "data": {
      "text/plain": [
       "(3566, 1)"
      ]
     },
     "execution_count": 77,
     "metadata": {},
     "output_type": "execute_result"
    }
   ],
   "source": [
    "df.shape"
   ]
  },
  {
   "cell_type": "code",
   "execution_count": 78,
   "metadata": {},
   "outputs": [
    {
     "data": {
      "text/html": [
       "<div>\n",
       "<style scoped>\n",
       "    .dataframe tbody tr th:only-of-type {\n",
       "        vertical-align: middle;\n",
       "    }\n",
       "\n",
       "    .dataframe tbody tr th {\n",
       "        vertical-align: top;\n",
       "    }\n",
       "\n",
       "    .dataframe thead th {\n",
       "        text-align: right;\n",
       "    }\n",
       "</style>\n",
       "<table border=\"1\" class=\"dataframe\">\n",
       "  <thead>\n",
       "    <tr style=\"text-align: right;\">\n",
       "      <th></th>\n",
       "      <th>text</th>\n",
       "    </tr>\n",
       "  </thead>\n",
       "  <tbody>\n",
       "    <tr>\n",
       "      <th>count</th>\n",
       "      <td>3566</td>\n",
       "    </tr>\n",
       "    <tr>\n",
       "      <th>unique</th>\n",
       "      <td>2755</td>\n",
       "    </tr>\n",
       "    <tr>\n",
       "      <th>top</th>\n",
       "      <td>A generation of older American voters that alr...</td>\n",
       "    </tr>\n",
       "    <tr>\n",
       "      <th>freq</th>\n",
       "      <td>6</td>\n",
       "    </tr>\n",
       "  </tbody>\n",
       "</table>\n",
       "</div>"
      ],
      "text/plain": [
       "                                                     text\n",
       "count                                                3566\n",
       "unique                                               2755\n",
       "top     A generation of older American voters that alr...\n",
       "freq                                                    6"
      ]
     },
     "execution_count": 78,
     "metadata": {},
     "output_type": "execute_result"
    }
   ],
   "source": [
    "df.describe()"
   ]
  },
  {
   "cell_type": "code",
   "execution_count": 84,
   "metadata": {},
   "outputs": [],
   "source": [
    "def preprocess(ReviewText):\n",
    "    ReviewText = ReviewText.str.replace(\"(<br/>)\", \"\")\n",
    "    ReviewText = ReviewText.str.replace('(<a).*(>).*(</a>)', '')\n",
    "    ReviewText = ReviewText.str.replace('(&amp)', '')\n",
    "    ReviewText = ReviewText.str.replace('(&gt)', '')\n",
    "    ReviewText = ReviewText.str.replace('(&lt)', '')\n",
    "    ReviewText = ReviewText.str.replace('(\\xa0)', ' ')  \n",
    "    return ReviewText\n",
    "df['text'] = preprocess(df['text'])\n",
    "df\n",
    "x=df['description']"
   ]
  },
  {
   "cell_type": "code",
   "execution_count": 92,
   "metadata": {},
   "outputs": [],
   "source": [
    "# from nltk.tokenize import word_tokenize\n",
    "\n",
    "# corpus = [word_tokenize(token) for token in x]\n",
    "# # lowercase_train = [[token.lower() for token in doc] for doc in corpus]\n",
    "# # alphas = [[token for token in doc if token.isalpha()] for doc in lowercase_train]\n",
    "\n",
    "\n",
    "# corpus"
   ]
  }
 ],
 "metadata": {
  "kernelspec": {
   "display_name": "Python 3",
   "language": "python",
   "name": "python3"
  },
  "language_info": {
   "codemirror_mode": {
    "name": "ipython",
    "version": 3
   },
   "file_extension": ".py",
   "mimetype": "text/x-python",
   "name": "python",
   "nbconvert_exporter": "python",
   "pygments_lexer": "ipython3",
   "version": "3.7.6"
  }
 },
 "nbformat": 4,
 "nbformat_minor": 4
}
